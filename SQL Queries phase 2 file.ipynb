{
 "cells": [
  {
   "cell_type": "code",
   "execution_count": 30,
   "id": "3e33787f",
   "metadata": {},
   "outputs": [],
   "source": [
    "import sqlite3"
   ]
  },
  {
   "cell_type": "code",
   "execution_count": 31,
   "id": "f735ae66",
   "metadata": {},
   "outputs": [],
   "source": [
    "db=sqlite3.connect(\"Hotel Bookings.db\")"
   ]
  },
  {
   "cell_type": "code",
   "execution_count": 32,
   "id": "3ab3582f",
   "metadata": {},
   "outputs": [],
   "source": [
    "cursor=db.cursor()"
   ]
  },
  {
   "cell_type": "code",
   "execution_count": 33,
   "id": "2bfaaa37",
   "metadata": {},
   "outputs": [
    {
     "ename": "OperationalError",
     "evalue": "table Tables1 already exists",
     "output_type": "error",
     "traceback": [
      "\u001b[1;31m---------------------------------------------------------------------------\u001b[0m",
      "\u001b[1;31mOperationalError\u001b[0m                          Traceback (most recent call last)",
      "Cell \u001b[1;32mIn[33], line 1\u001b[0m\n\u001b[1;32m----> 1\u001b[0m \u001b[43mcursor\u001b[49m\u001b[38;5;241;43m.\u001b[39;49m\u001b[43mexecute\u001b[49m\u001b[43m(\u001b[49m\u001b[38;5;124;43m\"\u001b[39;49m\u001b[38;5;124;43mCreate Table Tables1(sno, Name TEXT ,City TEXT,Ratings, Stars, Reviews,Location)\u001b[39;49m\u001b[38;5;124;43m\"\u001b[39;49m\u001b[43m)\u001b[49m\n",
      "\u001b[1;31mOperationalError\u001b[0m: table Tables1 already exists"
     ]
    }
   ],
   "source": [
    "cursor.execute(\"Create Table Tables1(sno, Name TEXT ,City TEXT,Ratings, Stars, Reviews,Location)\")"
   ]
  },
  {
   "cell_type": "code",
   "execution_count": 192,
   "id": "569d5664",
   "metadata": {},
   "outputs": [
    {
     "ename": "OperationalError",
     "evalue": "table Tables2 already exists",
     "output_type": "error",
     "traceback": [
      "\u001b[1;31m---------------------------------------------------------------------------\u001b[0m",
      "\u001b[1;31mOperationalError\u001b[0m                          Traceback (most recent call last)",
      "Cell \u001b[1;32mIn[192], line 1\u001b[0m\n\u001b[1;32m----> 1\u001b[0m \u001b[43mcursor\u001b[49m\u001b[38;5;241;43m.\u001b[39;49m\u001b[43mexecute\u001b[49m\u001b[43m(\u001b[49m\u001b[38;5;124;43m\"\u001b[39;49m\u001b[38;5;124;43mCreate Table Tables2(sno, Name TEXT ,Free wifi TEXT, Family rooms ,Non Smoking Rooms, Restaurant ,Bar, Heating ,Lift,BreakfastCuisine_1 TEXT,BreakfastCuisines_2 TEXT,BreakfastCuisin_3 TEXT)\u001b[39;49m\u001b[38;5;124;43m\"\u001b[39;49m\u001b[43m)\u001b[49m\n",
      "\u001b[1;31mOperationalError\u001b[0m: table Tables2 already exists"
     ]
    }
   ],
   "source": [
    "cursor.execute(\"Create Table Tables2(sno, Name TEXT ,Free wifi TEXT, Family rooms ,Non Smoking Rooms, Restaurant ,Bar, Heating ,Lift,BreakfastCuisine_1 TEXT,BreakfastCuisines_2 TEXT,BreakfastCuisin_3 TEXT)\")"
   ]
  },
  {
   "cell_type": "code",
   "execution_count": 135,
   "id": "1a0ee555",
   "metadata": {},
   "outputs": [
    {
     "ename": "OperationalError",
     "evalue": "table Tables3 already exists",
     "output_type": "error",
     "traceback": [
      "\u001b[1;31m---------------------------------------------------------------------------\u001b[0m",
      "\u001b[1;31mOperationalError\u001b[0m                          Traceback (most recent call last)",
      "Cell \u001b[1;32mIn[135], line 1\u001b[0m\n\u001b[1;32m----> 1\u001b[0m \u001b[43mcursor\u001b[49m\u001b[38;5;241;43m.\u001b[39;49m\u001b[43mexecute\u001b[49m\u001b[43m(\u001b[49m\u001b[38;5;124;43m\"\u001b[39;49m\u001b[38;5;124;43mCreate Table Tables3(sno ,Name TEXT, Room Type ,Single Bed ,Double bed  ,Prices)\u001b[39;49m\u001b[38;5;124;43m\"\u001b[39;49m\u001b[43m)\u001b[49m\n",
      "\u001b[1;31mOperationalError\u001b[0m: table Tables3 already exists"
     ]
    }
   ],
   "source": [
    "cursor.execute(\"Create Table Tables3(sno ,Name TEXT, Room Type ,Single Bed ,Double bed,Prices)\")"
   ]
  },
  {
   "cell_type": "code",
   "execution_count": null,
   "id": "ec4ee7f5",
   "metadata": {},
   "outputs": [],
   "source": [
    "with open(r\"C:\\Users\\sahee\\OneDrive\\Desktop\\phase_2_sql\\Data. 1.csv\") as file:\n",
    "    no_records=0\n",
    "    for row in file:\n",
    "        cursor.execute(\"INSERT INTO Tables1 VALUES (?,?,?,?,?,?,?)\",row.split(\",\"))\n",
    "        db.commit()\n",
    "        no_records +=1\n",
    "        print(no_records, 'Record Inserted')"
   ]
  },
  {
   "cell_type": "code",
   "execution_count": 137,
   "id": "ac767e00",
   "metadata": {},
   "outputs": [
    {
     "name": "stdout",
     "output_type": "stream",
     "text": [
      "('Sno', 'Name', 'City', 'Rating', 'Stars', 'Reviews', 'Location\\n')\n",
      "('Sno', 'Name', 'City', 'Rating', 'Stars', 'Reviews', 'Location\\n')\n",
      "('Sno', 'Name', 'City', 'Rating', 'Stars', 'Reviews', 'Location\\n')\n",
      "('1', ' Schulz Hotel Berlin Wall at the East Side Gallery', 'Budapest', '8.7', '3', '18362', '9.2\\n')\n",
      "('2', ' Novotel Suites Berlin City Potsdamer Platz', 'Budapest', '8.2', '3', '4463', '9.1\\n')\n",
      "('3', ' NH Collection Berlin Mitte Friedrichstrasse', 'Budapest', '8.8', '4', '6220', '9.6\\n')\n",
      "('4', ' Ibis budget Berlin Potsdamer Platz', 'Budapest', '7.8', '1', '4716', '9\\n')\n",
      "('5', ' Hollywood Media Hotel am KurfÃ¼rstendamm', 'Budapest', '8.4', '4', '3505', '9.4\\n')\n",
      "('Sno', 'Name', 'City', 'Rating', 'Stars', 'Reviews', 'Location\\n')\n",
      "('1', ' Schulz Hotel Berlin Wall at the East Side Gallery', 'Budapest', '8.7', '3', '18362', '9.2\\n')\n",
      "('2', ' Novotel Suites Berlin City Potsdamer Platz', 'Budapest', '8.2', '3', '4463', '9.1\\n')\n",
      "('3', ' NH Collection Berlin Mitte Friedrichstrasse', 'Budapest', '8.8', '4', '6220', '9.6\\n')\n",
      "('4', ' Ibis budget Berlin Potsdamer Platz', 'Budapest', '7.8', '1', '4716', '9\\n')\n",
      "('5', ' Hollywood Media Hotel am KurfÃ¼rstendamm', 'Budapest', '8.4', '4', '3505', '9.4\\n')\n",
      "('Sno', 'Name', 'City', 'Rating', 'Stars', 'Reviews', 'Location\\n')\n",
      "('1', ' Schulz Hotel Berlin Wall at the East Side Gallery', 'Budapest', '8.7', '3', '18362', '9.2\\n')\n",
      "('2', ' Novotel Suites Berlin City Potsdamer Platz', 'Budapest', '8.2', '3', '4463', '9.1\\n')\n",
      "('3', ' NH Collection Berlin Mitte Friedrichstrasse', 'Budapest', '8.8', '4', '6220', '9.6\\n')\n",
      "('4', ' Ibis budget Berlin Potsdamer Platz', 'Budapest', '7.8', '1', '4716', '9\\n')\n",
      "('5', ' Hollywood Media Hotel am KurfÃ¼rstendamm', 'Budapest', '8.4', '4', '3505', '9.4\\n')\n",
      "('Sno', 'Name', 'City', 'Rating', 'Stars', 'Reviews', 'Location\\n')\n",
      "('1', ' Schulz Hotel Berlin Wall at the East Side Gallery', 'Budapest', '8.7', '3', '18362', '9.2\\n')\n",
      "('2', ' Novotel Suites Berlin City Potsdamer Platz', 'Budapest', '8.2', '3', '4463', '9.1\\n')\n",
      "('3', ' NH Collection Berlin Mitte Friedrichstrasse', 'Budapest', '8.8', '4', '6220', '9.6\\n')\n",
      "('4', ' Ibis budget Berlin Potsdamer Platz', 'Budapest', '7.8', '1', '4716', '9\\n')\n",
      "('5', ' Hollywood Media Hotel am KurfÃ¼rstendamm', 'Budapest', '8.4', '4', '3505', '9.4\\n')\n",
      "('Sno', 'Name', 'City', 'Rating', 'Stars', 'Reviews', 'Location\\n')\n",
      "('1', ' Schulz Hotel Berlin Wall at the East Side Gallery', 'Budapest', '8.7', '3', '18362', '9.2\\n')\n",
      "('2', ' Novotel Suites Berlin City Potsdamer Platz', 'Budapest', '8.2', '3', '4463', '9.1\\n')\n",
      "('3', ' NH Collection Berlin Mitte Friedrichstrasse', 'Budapest', '8.8', '4', '6220', '9.6\\n')\n",
      "('4', ' Ibis budget Berlin Potsdamer Platz', 'Budapest', '7.8', '1', '4716', '9\\n')\n",
      "('5', ' Hollywood Media Hotel am KurfÃ¼rstendamm', 'Budapest', '8.4', '4', '3505', '9.4\\n')\n",
      "('Sno', 'Name', 'City', 'Rating', 'Stars', 'Reviews', 'Location\\n')\n",
      "('1', ' Schulz Hotel Berlin Wall at the East Side Gallery', 'Budapest', '8.7', '3', '18362', '9.2\\n')\n",
      "('2', ' Novotel Suites Berlin City Potsdamer Platz', 'Budapest', '8.2', '3', '4463', '9.1\\n')\n",
      "('3', ' NH Collection Berlin Mitte Friedrichstrasse', 'Budapest', '8.8', '4', '6220', '9.6\\n')\n",
      "('4', ' Ibis budget Berlin Potsdamer Platz', 'Budapest', '7.8', '1', '4716', '9\\n')\n",
      "('5', ' Hollywood Media Hotel am KurfÃ¼rstendamm', 'Budapest', '8.4', '4', '3505', '9.4\\n')\n",
      "('Sno', 'Name', 'City', 'Rating', 'Stars', 'Reviews', 'Location\\n')\n",
      "('1', ' Schulz Hotel Berlin Wall at the East Side Gallery', 'Budapest', '8.7', '3', '18362', '9.2\\n')\n",
      "('2', ' Novotel Suites Berlin City Potsdamer Platz', 'Budapest', '8.2', '3', '4463', '9.1\\n')\n",
      "('3', ' NH Collection Berlin Mitte Friedrichstrasse', 'Budapest', '8.8', '4', '6220', '9.6\\n')\n",
      "('4', ' Ibis budget Berlin Potsdamer Platz', 'Budapest', '7.8', '1', '4716', '9\\n')\n",
      "('5', ' Hollywood Media Hotel am KurfÃ¼rstendamm', 'Budapest', '8.4', '4', '3505', '9.4\\n')\n"
     ]
    }
   ],
   "source": [
    "result_1=cursor.execute(\"SELECT * FROM  Tables1\")\n",
    "for row in result_1:\n",
    "    print(row)"
   ]
  },
  {
   "cell_type": "code",
   "execution_count": 173,
   "id": "65179bbc",
   "metadata": {},
   "outputs": [
    {
     "name": "stdout",
     "output_type": "stream",
     "text": [
      "('1', ' Schulz Hotel Berlin Wall at the East Side Gallery', 'Budapest', '8.7', '3', '18362', '9.2\\n')\n",
      "('2', ' Novotel Suites Berlin City Potsdamer Platz', 'Budapest', '8.2', '3', '4463', '9.1\\n')\n",
      "('3', ' NH Collection Berlin Mitte Friedrichstrasse', 'Budapest', '8.8', '4', '6220', '9.6\\n')\n",
      "('4', ' Ibis budget Berlin Potsdamer Platz', 'Budapest', '7.8', '1', '4716', '9\\n')\n",
      "('5', ' Hollywood Media Hotel am KurfÃ¼rstendamm', 'Budapest', '8.4', '4', '3505', '9.4\\n')\n",
      "('1', ' Schulz Hotel Berlin Wall at the East Side Gallery', 'Budapest', '8.7', '3', '18362', '9.2\\n')\n",
      "('2', ' Novotel Suites Berlin City Potsdamer Platz', 'Budapest', '8.2', '3', '4463', '9.1\\n')\n",
      "('3', ' NH Collection Berlin Mitte Friedrichstrasse', 'Budapest', '8.8', '4', '6220', '9.6\\n')\n",
      "('4', ' Ibis budget Berlin Potsdamer Platz', 'Budapest', '7.8', '1', '4716', '9\\n')\n",
      "('5', ' Hollywood Media Hotel am KurfÃ¼rstendamm', 'Budapest', '8.4', '4', '3505', '9.4\\n')\n",
      "('1', ' Schulz Hotel Berlin Wall at the East Side Gallery', 'Budapest', '8.7', '3', '18362', '9.2\\n')\n",
      "('2', ' Novotel Suites Berlin City Potsdamer Platz', 'Budapest', '8.2', '3', '4463', '9.1\\n')\n",
      "('3', ' NH Collection Berlin Mitte Friedrichstrasse', 'Budapest', '8.8', '4', '6220', '9.6\\n')\n",
      "('4', ' Ibis budget Berlin Potsdamer Platz', 'Budapest', '7.8', '1', '4716', '9\\n')\n",
      "('5', ' Hollywood Media Hotel am KurfÃ¼rstendamm', 'Budapest', '8.4', '4', '3505', '9.4\\n')\n",
      "('1', ' Schulz Hotel Berlin Wall at the East Side Gallery', 'Budapest', '8.7', '3', '18362', '9.2\\n')\n",
      "('2', ' Novotel Suites Berlin City Potsdamer Platz', 'Budapest', '8.2', '3', '4463', '9.1\\n')\n",
      "('3', ' NH Collection Berlin Mitte Friedrichstrasse', 'Budapest', '8.8', '4', '6220', '9.6\\n')\n",
      "('4', ' Ibis budget Berlin Potsdamer Platz', 'Budapest', '7.8', '1', '4716', '9\\n')\n",
      "('5', ' Hollywood Media Hotel am KurfÃ¼rstendamm', 'Budapest', '8.4', '4', '3505', '9.4\\n')\n",
      "('1', ' Schulz Hotel Berlin Wall at the East Side Gallery', 'Budapest', '8.7', '3', '18362', '9.2\\n')\n",
      "('2', ' Novotel Suites Berlin City Potsdamer Platz', 'Budapest', '8.2', '3', '4463', '9.1\\n')\n",
      "('3', ' NH Collection Berlin Mitte Friedrichstrasse', 'Budapest', '8.8', '4', '6220', '9.6\\n')\n",
      "('4', ' Ibis budget Berlin Potsdamer Platz', 'Budapest', '7.8', '1', '4716', '9\\n')\n",
      "('5', ' Hollywood Media Hotel am KurfÃ¼rstendamm', 'Budapest', '8.4', '4', '3505', '9.4\\n')\n",
      "('1', ' Schulz Hotel Berlin Wall at the East Side Gallery', 'Budapest', '8.7', '3', '18362', '9.2\\n')\n",
      "('2', ' Novotel Suites Berlin City Potsdamer Platz', 'Budapest', '8.2', '3', '4463', '9.1\\n')\n",
      "('3', ' NH Collection Berlin Mitte Friedrichstrasse', 'Budapest', '8.8', '4', '6220', '9.6\\n')\n",
      "('4', ' Ibis budget Berlin Potsdamer Platz', 'Budapest', '7.8', '1', '4716', '9\\n')\n",
      "('5', ' Hollywood Media Hotel am KurfÃ¼rstendamm', 'Budapest', '8.4', '4', '3505', '9.4\\n')\n",
      "('1', ' Schulz Hotel Berlin Wall at the East Side Gallery', 'Budapest', '8.7', '3', '18362', '9.2\\n')\n",
      "('2', ' Novotel Suites Berlin City Potsdamer Platz', 'Budapest', '8.2', '3', '4463', '9.1\\n')\n",
      "('3', ' NH Collection Berlin Mitte Friedrichstrasse', 'Budapest', '8.8', '4', '6220', '9.6\\n')\n",
      "('4', ' Ibis budget Berlin Potsdamer Platz', 'Budapest', '7.8', '1', '4716', '9\\n')\n",
      "('5', ' Hollywood Media Hotel am KurfÃ¼rstendamm', 'Budapest', '8.4', '4', '3505', '9.4\\n')\n"
     ]
    }
   ],
   "source": [
    "cursor.execute(\"SELECT * FROM Tables1 WHERE City ='Budapest' AND Ratings > 3\")\n",
    "# Fetch the results\n",
    "result_2 = cursor.fetchall()\n",
    "for row in result_2:\n",
    "    print(row)"
   ]
  },
  {
   "cell_type": "code",
   "execution_count": 217,
   "id": "3a04a359",
   "metadata": {},
   "outputs": [
    {
     "ename": "OperationalError",
     "evalue": "no such column: Location",
     "output_type": "error",
     "traceback": [
      "\u001b[1;31m---------------------------------------------------------------------------\u001b[0m",
      "\u001b[1;31mOperationalError\u001b[0m                          Traceback (most recent call last)",
      "Cell \u001b[1;32mIn[217], line 7\u001b[0m\n\u001b[0;32m      1\u001b[0m query_2 \u001b[38;5;241m=\u001b[39m \u001b[38;5;124m'''\u001b[39m\n\u001b[0;32m      2\u001b[0m \u001b[38;5;124m        SELECT Location, COUNT(*) AS Reviews FROM Tables1 \u001b[39m\n\u001b[0;32m      3\u001b[0m \u001b[38;5;124m        GROUP BY Location\u001b[39m\n\u001b[0;32m      4\u001b[0m \u001b[38;5;124m        ORDER BY Reviews DESC\u001b[39m\n\u001b[0;32m      5\u001b[0m \u001b[38;5;124m        LIMIT 1;\u001b[39m\n\u001b[0;32m      6\u001b[0m \u001b[38;5;124m        \u001b[39m\u001b[38;5;124m'''\u001b[39m\n\u001b[1;32m----> 7\u001b[0m \u001b[43mcursor\u001b[49m\u001b[38;5;241;43m.\u001b[39;49m\u001b[43mexecute\u001b[49m\u001b[43m(\u001b[49m\u001b[43mquery_2\u001b[49m\u001b[43m)\u001b[49m\n\u001b[0;32m      8\u001b[0m result_3 \u001b[38;5;241m=\u001b[39m cursor\u001b[38;5;241m.\u001b[39mfetchone()\n\u001b[0;32m      9\u001b[0m \u001b[38;5;28;01mfor\u001b[39;00m row \u001b[38;5;129;01min\u001b[39;00m results_3:\n",
      "\u001b[1;31mOperationalError\u001b[0m: no such column: Location"
     ]
    }
   ],
   "source": [
    "query_2 = '''\n",
    "        SELECT Location, COUNT(*) AS Reviews FROM Tables1 \n",
    "        GROUP BY Location\n",
    "        ORDER BY Reviews DESC\n",
    "        LIMIT 1;\n",
    "        '''\n",
    "cursor.execute(query_2)\n",
    "result_3 = cursor.fetchone()\n",
    "for row in results_3:\n",
    "    print(row)"
   ]
  },
  {
   "cell_type": "code",
   "execution_count": 216,
   "id": "7c2742fe",
   "metadata": {},
   "outputs": [
    {
     "name": "stdout",
     "output_type": "stream",
     "text": [
      "('Sno', 'Name', 'City', 'Rating', 'Stars', 'Reviews', 'Location\\n')\n",
      "('Sno', 'Name', 'City', 'Rating', 'Stars', 'Reviews', 'Location\\n')\n",
      "('Sno', 'Name', 'City', 'Rating', 'Stars', 'Reviews', 'Location\\n')\n",
      "('Sno', 'Name', 'City', 'Rating', 'Stars', 'Reviews', 'Location\\n')\n",
      "('Sno', 'Name', 'City', 'Rating', 'Stars', 'Reviews', 'Location\\n')\n",
      "('Sno', 'Name', 'City', 'Rating', 'Stars', 'Reviews', 'Location\\n')\n",
      "('Sno', 'Name', 'City', 'Rating', 'Stars', 'Reviews', 'Location\\n')\n",
      "('Sno', 'Name', 'City', 'Rating', 'Stars', 'Reviews', 'Location\\n')\n",
      "('Sno', 'Name', 'City', 'Rating', 'Stars', 'Reviews', 'Location\\n')\n",
      "('3', ' NH Collection Berlin Mitte Friedrichstrasse', 'Budapest', '8.8', '4', '6220', '9.6\\n')\n",
      "('3', ' NH Collection Berlin Mitte Friedrichstrasse', 'Budapest', '8.8', '4', '6220', '9.6\\n')\n",
      "('3', ' NH Collection Berlin Mitte Friedrichstrasse', 'Budapest', '8.8', '4', '6220', '9.6\\n')\n",
      "('3', ' NH Collection Berlin Mitte Friedrichstrasse', 'Budapest', '8.8', '4', '6220', '9.6\\n')\n",
      "('3', ' NH Collection Berlin Mitte Friedrichstrasse', 'Budapest', '8.8', '4', '6220', '9.6\\n')\n",
      "('3', ' NH Collection Berlin Mitte Friedrichstrasse', 'Budapest', '8.8', '4', '6220', '9.6\\n')\n",
      "('3', ' NH Collection Berlin Mitte Friedrichstrasse', 'Budapest', '8.8', '4', '6220', '9.6\\n')\n",
      "('1', ' Schulz Hotel Berlin Wall at the East Side Gallery', 'Budapest', '8.7', '3', '18362', '9.2\\n')\n",
      "('1', ' Schulz Hotel Berlin Wall at the East Side Gallery', 'Budapest', '8.7', '3', '18362', '9.2\\n')\n",
      "('1', ' Schulz Hotel Berlin Wall at the East Side Gallery', 'Budapest', '8.7', '3', '18362', '9.2\\n')\n",
      "('1', ' Schulz Hotel Berlin Wall at the East Side Gallery', 'Budapest', '8.7', '3', '18362', '9.2\\n')\n",
      "('1', ' Schulz Hotel Berlin Wall at the East Side Gallery', 'Budapest', '8.7', '3', '18362', '9.2\\n')\n",
      "('1', ' Schulz Hotel Berlin Wall at the East Side Gallery', 'Budapest', '8.7', '3', '18362', '9.2\\n')\n",
      "('1', ' Schulz Hotel Berlin Wall at the East Side Gallery', 'Budapest', '8.7', '3', '18362', '9.2\\n')\n",
      "('5', ' Hollywood Media Hotel am KurfÃ¼rstendamm', 'Budapest', '8.4', '4', '3505', '9.4\\n')\n",
      "('5', ' Hollywood Media Hotel am KurfÃ¼rstendamm', 'Budapest', '8.4', '4', '3505', '9.4\\n')\n",
      "('5', ' Hollywood Media Hotel am KurfÃ¼rstendamm', 'Budapest', '8.4', '4', '3505', '9.4\\n')\n",
      "('5', ' Hollywood Media Hotel am KurfÃ¼rstendamm', 'Budapest', '8.4', '4', '3505', '9.4\\n')\n",
      "('5', ' Hollywood Media Hotel am KurfÃ¼rstendamm', 'Budapest', '8.4', '4', '3505', '9.4\\n')\n",
      "('5', ' Hollywood Media Hotel am KurfÃ¼rstendamm', 'Budapest', '8.4', '4', '3505', '9.4\\n')\n",
      "('5', ' Hollywood Media Hotel am KurfÃ¼rstendamm', 'Budapest', '8.4', '4', '3505', '9.4\\n')\n",
      "('2', ' Novotel Suites Berlin City Potsdamer Platz', 'Budapest', '8.2', '3', '4463', '9.1\\n')\n",
      "('2', ' Novotel Suites Berlin City Potsdamer Platz', 'Budapest', '8.2', '3', '4463', '9.1\\n')\n",
      "('2', ' Novotel Suites Berlin City Potsdamer Platz', 'Budapest', '8.2', '3', '4463', '9.1\\n')\n",
      "('2', ' Novotel Suites Berlin City Potsdamer Platz', 'Budapest', '8.2', '3', '4463', '9.1\\n')\n",
      "('2', ' Novotel Suites Berlin City Potsdamer Platz', 'Budapest', '8.2', '3', '4463', '9.1\\n')\n",
      "('2', ' Novotel Suites Berlin City Potsdamer Platz', 'Budapest', '8.2', '3', '4463', '9.1\\n')\n",
      "('2', ' Novotel Suites Berlin City Potsdamer Platz', 'Budapest', '8.2', '3', '4463', '9.1\\n')\n",
      "('4', ' Ibis budget Berlin Potsdamer Platz', 'Budapest', '7.8', '1', '4716', '9\\n')\n",
      "('4', ' Ibis budget Berlin Potsdamer Platz', 'Budapest', '7.8', '1', '4716', '9\\n')\n",
      "('4', ' Ibis budget Berlin Potsdamer Platz', 'Budapest', '7.8', '1', '4716', '9\\n')\n",
      "('4', ' Ibis budget Berlin Potsdamer Platz', 'Budapest', '7.8', '1', '4716', '9\\n')\n",
      "('4', ' Ibis budget Berlin Potsdamer Platz', 'Budapest', '7.8', '1', '4716', '9\\n')\n",
      "('4', ' Ibis budget Berlin Potsdamer Platz', 'Budapest', '7.8', '1', '4716', '9\\n')\n",
      "('4', ' Ibis budget Berlin Potsdamer Platz', 'Budapest', '7.8', '1', '4716', '9\\n')\n"
     ]
    }
   ],
   "source": [
    "query3 = '''\n",
    "    SELECT *\n",
    "    FROM Tables1 \n",
    "    ORDER BY Ratings DESC;\n",
    "'''\n",
    "\n",
    "cursor.execute(query3)\n",
    "results_3 = cursor.fetchall()\n",
    "for row in results_3:\n",
    "    print(row)"
   ]
  },
  {
   "cell_type": "raw",
   "id": "852c45db",
   "metadata": {},
   "source": [
    "Writ query that  retrieves rows where the star rating is greater than or equal to 4.0 and sorts them in descending order of review score."
   ]
  },
  {
   "cell_type": "code",
   "execution_count": 223,
   "id": "8033d3a1",
   "metadata": {},
   "outputs": [
    {
     "name": "stdout",
     "output_type": "stream",
     "text": [
      "('Sno', 'Name', 'City', 'Rating', 'Stars', 'Reviews', 'Location\\n')\n",
      "('Sno', 'Name', 'City', 'Rating', 'Stars', 'Reviews', 'Location\\n')\n",
      "('Sno', 'Name', 'City', 'Rating', 'Stars', 'Reviews', 'Location\\n')\n",
      "('Sno', 'Name', 'City', 'Rating', 'Stars', 'Reviews', 'Location\\n')\n",
      "('Sno', 'Name', 'City', 'Rating', 'Stars', 'Reviews', 'Location\\n')\n",
      "('Sno', 'Name', 'City', 'Rating', 'Stars', 'Reviews', 'Location\\n')\n",
      "('Sno', 'Name', 'City', 'Rating', 'Stars', 'Reviews', 'Location\\n')\n",
      "('Sno', 'Name', 'City', 'Rating', 'Stars', 'Reviews', 'Location\\n')\n",
      "('Sno', 'Name', 'City', 'Rating', 'Stars', 'Reviews', 'Location\\n')\n",
      "('3', ' NH Collection Berlin Mitte Friedrichstrasse', 'Budapest', '8.8', '4', '6220', '9.6\\n')\n",
      "('3', ' NH Collection Berlin Mitte Friedrichstrasse', 'Budapest', '8.8', '4', '6220', '9.6\\n')\n",
      "('3', ' NH Collection Berlin Mitte Friedrichstrasse', 'Budapest', '8.8', '4', '6220', '9.6\\n')\n",
      "('3', ' NH Collection Berlin Mitte Friedrichstrasse', 'Budapest', '8.8', '4', '6220', '9.6\\n')\n",
      "('3', ' NH Collection Berlin Mitte Friedrichstrasse', 'Budapest', '8.8', '4', '6220', '9.6\\n')\n",
      "('3', ' NH Collection Berlin Mitte Friedrichstrasse', 'Budapest', '8.8', '4', '6220', '9.6\\n')\n",
      "('3', ' NH Collection Berlin Mitte Friedrichstrasse', 'Budapest', '8.8', '4', '6220', '9.6\\n')\n",
      "('4', ' Ibis budget Berlin Potsdamer Platz', 'Budapest', '7.8', '1', '4716', '9\\n')\n",
      "('4', ' Ibis budget Berlin Potsdamer Platz', 'Budapest', '7.8', '1', '4716', '9\\n')\n",
      "('4', ' Ibis budget Berlin Potsdamer Platz', 'Budapest', '7.8', '1', '4716', '9\\n')\n",
      "('4', ' Ibis budget Berlin Potsdamer Platz', 'Budapest', '7.8', '1', '4716', '9\\n')\n",
      "('4', ' Ibis budget Berlin Potsdamer Platz', 'Budapest', '7.8', '1', '4716', '9\\n')\n",
      "('4', ' Ibis budget Berlin Potsdamer Platz', 'Budapest', '7.8', '1', '4716', '9\\n')\n",
      "('4', ' Ibis budget Berlin Potsdamer Platz', 'Budapest', '7.8', '1', '4716', '9\\n')\n",
      "('2', ' Novotel Suites Berlin City Potsdamer Platz', 'Budapest', '8.2', '3', '4463', '9.1\\n')\n",
      "('2', ' Novotel Suites Berlin City Potsdamer Platz', 'Budapest', '8.2', '3', '4463', '9.1\\n')\n",
      "('2', ' Novotel Suites Berlin City Potsdamer Platz', 'Budapest', '8.2', '3', '4463', '9.1\\n')\n",
      "('2', ' Novotel Suites Berlin City Potsdamer Platz', 'Budapest', '8.2', '3', '4463', '9.1\\n')\n",
      "('2', ' Novotel Suites Berlin City Potsdamer Platz', 'Budapest', '8.2', '3', '4463', '9.1\\n')\n",
      "('2', ' Novotel Suites Berlin City Potsdamer Platz', 'Budapest', '8.2', '3', '4463', '9.1\\n')\n",
      "('2', ' Novotel Suites Berlin City Potsdamer Platz', 'Budapest', '8.2', '3', '4463', '9.1\\n')\n",
      "('5', ' Hollywood Media Hotel am KurfÃ¼rstendamm', 'Budapest', '8.4', '4', '3505', '9.4\\n')\n",
      "('5', ' Hollywood Media Hotel am KurfÃ¼rstendamm', 'Budapest', '8.4', '4', '3505', '9.4\\n')\n",
      "('5', ' Hollywood Media Hotel am KurfÃ¼rstendamm', 'Budapest', '8.4', '4', '3505', '9.4\\n')\n",
      "('5', ' Hollywood Media Hotel am KurfÃ¼rstendamm', 'Budapest', '8.4', '4', '3505', '9.4\\n')\n",
      "('5', ' Hollywood Media Hotel am KurfÃ¼rstendamm', 'Budapest', '8.4', '4', '3505', '9.4\\n')\n",
      "('5', ' Hollywood Media Hotel am KurfÃ¼rstendamm', 'Budapest', '8.4', '4', '3505', '9.4\\n')\n",
      "('5', ' Hollywood Media Hotel am KurfÃ¼rstendamm', 'Budapest', '8.4', '4', '3505', '9.4\\n')\n",
      "('1', ' Schulz Hotel Berlin Wall at the East Side Gallery', 'Budapest', '8.7', '3', '18362', '9.2\\n')\n",
      "('1', ' Schulz Hotel Berlin Wall at the East Side Gallery', 'Budapest', '8.7', '3', '18362', '9.2\\n')\n",
      "('1', ' Schulz Hotel Berlin Wall at the East Side Gallery', 'Budapest', '8.7', '3', '18362', '9.2\\n')\n",
      "('1', ' Schulz Hotel Berlin Wall at the East Side Gallery', 'Budapest', '8.7', '3', '18362', '9.2\\n')\n",
      "('1', ' Schulz Hotel Berlin Wall at the East Side Gallery', 'Budapest', '8.7', '3', '18362', '9.2\\n')\n",
      "('1', ' Schulz Hotel Berlin Wall at the East Side Gallery', 'Budapest', '8.7', '3', '18362', '9.2\\n')\n",
      "('1', ' Schulz Hotel Berlin Wall at the East Side Gallery', 'Budapest', '8.7', '3', '18362', '9.2\\n')\n"
     ]
    }
   ],
   "source": [
    "query_4 = '''\n",
    "    SELECT *\n",
    "    FROM Tables1\n",
    "    WHERE Ratings >= 4.0\n",
    "    ORDER BY Reviews DESC;\n",
    "'''\n",
    "\n",
    "cursor.execute(query_4)\n",
    "\n",
    "# Fetch all the results\n",
    "results_4 = cursor.fetchall()\n",
    "for row in results_4:\n",
    "    print(row)"
   ]
  },
  {
   "cell_type": "raw",
   "id": "dd9d7355",
   "metadata": {},
   "source": [
    "Write a query to count the number of hotels in each city."
   ]
  },
  {
   "cell_type": "code",
   "execution_count": 228,
   "id": "25ada84b",
   "metadata": {},
   "outputs": [
    {
     "name": "stdout",
     "output_type": "stream",
     "text": [
      "City: Budapest, Number of Hotels: 35\n",
      "City: City, Number of Hotels: 9\n"
     ]
    }
   ],
   "source": [
    "query = '''\n",
    "    SELECT City, COUNT(*) AS Name\n",
    "    FROM Tables1\n",
    "    GROUP BY City;\n",
    "'''\n",
    "\n",
    "cursor.execute(query)\n",
    "\n",
    "# Fetch all the results\n",
    "results_5 = cursor.fetchall()\n",
    "for row in results_5:\n",
    "    print(f\"City: {row[0]}, Number of Hotels: {row[1]}\")"
   ]
  },
  {
   "cell_type": "markdown",
   "id": "91f1db5d",
   "metadata": {},
   "source": [
    "# Table 2"
   ]
  },
  {
   "cell_type": "code",
   "execution_count": null,
   "id": "67c1f3e0",
   "metadata": {},
   "outputs": [],
   "source": [
    "with open(r\"C:\\Users\\sahee\\OneDrive\\Desktop\\phase_2_sql\\Data.2.csv\") as file:\n",
    "    no_records=0\n",
    "    for row in file:\n",
    "        cursor.execute(\"INSERT INTO Tables2 VALUES (?,?,?,?,?,?,?,?,?,?)\",row.split(\",\"))\n",
    "        db.commit()\n",
    "        no_records +=1\n",
    "        print(no_records, 'Record Inserted')"
   ]
  },
  {
   "cell_type": "code",
   "execution_count": 2,
   "id": "eaaeec82",
   "metadata": {},
   "outputs": [],
   "source": [
    "query='''\n",
    "SELECT Name\n",
    "FROM Tables2\n",
    "WHERE EXISTS (SELECT 1 FROM hotel_amenities WHERE hotel_id = hotels.id AND amenity = 'restaurant') AND\n",
    "      EXISTS (SELECT 1 FROM hotel_amenities WHERE hotel_id = hotels.id AND amenity = 'bar');'''"
   ]
  },
  {
   "cell_type": "code",
   "execution_count": 16,
   "id": "f7b55d4d",
   "metadata": {},
   "outputs": [],
   "source": [
    "query = \"\"\"\n",
    "SELECT Name\n",
    "FROM Tables2\n",
    "WHERE\n",
    "    EXISTS (SELECT 1 FROM hotel_amenities WHERE hotel_id = hotels.id AND amenity = 'free WiFi')\n",
    "    AND\n",
    "    EXISTS (SELECT 1 FROM hotel_amenities WHERE hotel_id = hotels.id AND amenity = 'family rooms');\n",
    "\"\"\"\n",
    "cursor.execute(query)\n",
    "results = cursor.fetchall()\n",
    "for row in results:\n",
    "    print(row[0])"
   ]
  },
  {
   "cell_type": "code",
   "execution_count": null,
   "id": "d31998d3",
   "metadata": {},
   "outputs": [],
   "source": [
    "import pandas as pd\n",
    "data = pd.read_csv(r\"C:\\Users\\sahee\\OneDrive\\Desktop\\phase_2_sql\\Data.2.csv\")\n",
    "cuisine_counts = data['cuisine_type'].value_counts()\n",
    "print(cuisine_counts)"
   ]
  },
  {
   "cell_type": "code",
   "execution_count": null,
   "id": "5e82953f",
   "metadata": {},
   "outputs": [],
   "source": [
    "query = '''\n",
    "    SELECT cuisine_type, COUNT(*) as count\n",
    "    FROM breakfast\n",
    "    GROUP BY cuisine_type\n",
    "    '''\n",
    "df = pd.read_sql_query(query, cursor)"
   ]
  },
  {
   "cell_type": "code",
   "execution_count": null,
   "id": "fb2bbb6c",
   "metadata": {},
   "outputs": [],
   "source": [
    "Query='''\n",
    "SELECT hotel_name\n",
    "FROM hotels\n",
    "WHERE\n",
    "    EXISTS (SELECT 1 FROM hotel_amenities WHERE hotel_id = hotels.id AND amenity = 'Heating')\n",
    "    AND\n",
    "    EXISTS (SELECT 1 FROM hotel_amenities WHERE hotel_id = hotels.id AND amenity = 'Lift')\n",
    "    AND\n",
    "    EXISTS (SELECT 1 FROM hotel_amenities WHERE hotel_id = hotels.id AND amenity = 'Bar');\n",
    "'''"
   ]
  },
  {
   "cell_type": "markdown",
   "id": "f489570f",
   "metadata": {},
   "source": [
    "# Table 3"
   ]
  },
  {
   "cell_type": "code",
   "execution_count": null,
   "id": "adb881c3",
   "metadata": {},
   "outputs": [],
   "source": [
    "with open(r\"C:\\Users\\sahee\\OneDrive\\Desktop\\phase_2_sql\\Data 3.csv\") as file:\n",
    "    no_records=0\n",
    "    for row in file:\n",
    "        cursor.execute(\"INSERT INTO Tables3 VALUES (?,?,?,?,?,?,?,?)\",row.split(\",\"))\n",
    "        db.commit()\n",
    "        no_records +=1\n",
    "        print(no_records, 'Record Inserted')"
   ]
  },
  {
   "cell_type": "code",
   "execution_count": null,
   "id": "de6f0e52",
   "metadata": {},
   "outputs": [],
   "source": []
  },
  {
   "cell_type": "code",
   "execution_count": null,
   "id": "340b6a08",
   "metadata": {},
   "outputs": [],
   "source": [
    "query = '''\n",
    "    SELECT hotel_name, price\n",
    "    FROM hotels\n",
    "    WHERE room_type = 'double bed'\n",
    "    ORDER BY price DESC\n",
    "'''\n",
    "df = pd.read_sql_query(query, cursor)"
   ]
  },
  {
   "cell_type": "code",
   "execution_count": null,
   "id": "95c2e27b",
   "metadata": {},
   "outputs": [],
   "source": [
    "query = '''\n",
    "    SELECT room_type, AVG(price) AS average_price\n",
    "    FROM hotels\n",
    "    GROUP BY room_type\n",
    "'''\n",
    "df = pd.read_sql_query(query,cursor)\n",
    "df"
   ]
  },
  {
   "cell_type": "code",
   "execution_count": null,
   "id": "eaba7fa1",
   "metadata": {},
   "outputs": [],
   "source": [
    "import sqlite3\n",
    "import pandas as pd\n",
    "cursor=db.cursor()\n",
    "query = '''\n",
    "    SELECT Name, h.Rating, a.Facilities\n",
    "    FROM Tables2 AS h\n",
    "    JOIN Facilities AS a ON h.id = a.hotel_id\n",
    "    WHERE h.Rating > 5 AND a.Facilities = 'free WiFi'\n",
    "'''\n",
    "df = pd.read_sql_query(query,cursor)"
   ]
  },
  {
   "cell_type": "code",
   "execution_count": null,
   "id": "01c6f387",
   "metadata": {},
   "outputs": [],
   "source": [
    "query = '''\n",
    "    SELECT r.room_type, AVG(rp.price) AS average_price\n",
    "    FROM rooms AS r\n",
    "    LEFT JOIN room_prices AS rp ON r.room_type = rp.room_type\n",
    "    GROUP BY r.room_type\n",
    "'''\n",
    "df = pd.read_sql_query(query,cursor)"
   ]
  },
  {
   "cell_type": "code",
   "execution_count": null,
   "id": "f9f72c43",
   "metadata": {},
   "outputs": [],
   "source": []
  },
  {
   "cell_type": "code",
   "execution_count": null,
   "id": "8363fb58",
   "metadata": {},
   "outputs": [],
   "source": []
  },
  {
   "cell_type": "code",
   "execution_count": null,
   "id": "3d65fbff",
   "metadata": {},
   "outputs": [],
   "source": []
  },
  {
   "cell_type": "code",
   "execution_count": null,
   "id": "b500f8c9",
   "metadata": {},
   "outputs": [],
   "source": []
  }
 ],
 "metadata": {
  "kernelspec": {
   "display_name": "Python 3 (ipykernel)",
   "language": "python",
   "name": "python3"
  },
  "language_info": {
   "codemirror_mode": {
    "name": "ipython",
    "version": 3
   },
   "file_extension": ".py",
   "mimetype": "text/x-python",
   "name": "python",
   "nbconvert_exporter": "python",
   "pygments_lexer": "ipython3",
   "version": "3.10.9"
  }
 },
 "nbformat": 4,
 "nbformat_minor": 5
}
